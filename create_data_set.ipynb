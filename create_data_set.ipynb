{
 "cells": [
  {
   "cell_type": "code",
   "execution_count": 1,
   "metadata": {},
   "outputs": [],
   "source": [
    "#creates dataset using webcam\n",
    "import cv2\n",
    "import sys\n",
    "\n",
    "cpt=0\n",
    "vidStream=cv2.VideoCapture(0) #Selects camera,webcam as parameter 0\n",
    "\n",
    "while True:\n",
    "    ret,frame=vidStream.read()       \n",
    "    cv2.imshow('Test Frame',frame)   #reads and shows the frame\n",
    "    \n",
    "    cv2.imwrite(r\"C:\\Users\\Bryan Devadatha\\Desktop\\my projects\\Face-Recognition-LBPH\\images\\1\\image%04i.jpg\"%cpt,frame)\n",
    "    cpt +=1\n",
    "    \n",
    "    if cv2.waitKey(10)==ord('q'): #waits or q to be pressed\n",
    "        break"
   ]
  },
  {
   "cell_type": "code",
   "execution_count": null,
   "metadata": {},
   "outputs": [],
   "source": []
  },
  {
   "cell_type": "code",
   "execution_count": null,
   "metadata": {},
   "outputs": [],
   "source": []
  },
  {
   "cell_type": "code",
   "execution_count": null,
   "metadata": {},
   "outputs": [],
   "source": []
  },
  {
   "cell_type": "code",
   "execution_count": null,
   "metadata": {},
   "outputs": [],
   "source": []
  }
 ],
 "metadata": {
  "kernelspec": {
   "display_name": "Python 3",
   "language": "python",
   "name": "python3"
  },
  "language_info": {
   "codemirror_mode": {
    "name": "ipython",
    "version": 3
   },
   "file_extension": ".py",
   "mimetype": "text/x-python",
   "name": "python",
   "nbconvert_exporter": "python",
   "pygments_lexer": "ipython3",
   "version": "3.7.1"
  }
 },
 "nbformat": 4,
 "nbformat_minor": 2
}
