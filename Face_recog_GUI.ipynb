{
 "cells": [
  {
   "cell_type": "code",
   "execution_count": null,
   "metadata": {},
   "outputs": [
    {
     "name": "stdout",
     "output_type": "stream",
     "text": [
      "face Detected:  [[661 512 787 787]]\n",
      "Confidence : 25.146509245937885\n",
      "label : 0\n",
      "face Detected:  [[1620  512 1174 1174]]\n",
      "Confidence : 62.006026050743564\n",
      "label : 1\n"
     ]
    }
   ],
   "source": [
    "from tkinter import *\n",
    "from tkinter.messagebox import showinfo\n",
    "import PIL.Image,PIL.ImageTk  #supporting jpg files (pillow module)\n",
    "from tkinter.filedialog import askopenfilename,asksaveasfilename\n",
    "import numpy as np\n",
    "import cv2\n",
    "import os\n",
    "import Face_Recognition as fr\n",
    "def open():\n",
    "    global file\n",
    "    file=askopenfilename(defaultextension=\".jpg\",filetypes=[(\"Image files\",\"*.jpg\"),(\"Text Document\",\"*.txt\")])\n",
    "    if file==\"\":\n",
    "        file=None\n",
    "    else:\n",
    "        #f=open(file,mode=\"r\")\n",
    "        #os.startfile(file) #startfile function is used to open a file on diff window\n",
    "        #f1=os.path.basename(file)\n",
    "        #print(f1)\n",
    "        #f.close()\n",
    "        test_img=cv2.imread(file)      #Give path to the image which you want to test\n",
    "\n",
    "\n",
    "        faces_detected,gray_img=fr.facedetection(test_img)\n",
    "        print(\"face Detected: \",faces_detected)\n",
    "\n",
    "\n",
    "        face_recognizer=cv2.face.LBPHFaceRecognizer_create()\n",
    "        face_recognizer.read(r'C:\\Users\\Bryan Devadatha\\Desktop\\my projects\\Face-Recognition-LBPH\\TrainingData.yml')  #Give path of where trainingData.yml is saved\n",
    "\n",
    "        name={0:\"Bryan\",1:\"Zucc\"}             #Change names accordingly.  If you want to recognize only one person then write:- name={0:\"name\"} thats all. Dont write for id number 1. \n",
    "\n",
    "        for face in faces_detected:\n",
    "                        (x,y,w,h)=face\n",
    "                        roi_gray=gray_img[y:y+h,x:x+h]\n",
    "                        label,confidence=face_recognizer.predict(roi_gray)\n",
    "                        print (\"Confidence :\",confidence)\n",
    "                        print(\"label :\",label)\n",
    "                        fr.draw_rect(test_img,face)\n",
    "                        predicted_name=name[label]\n",
    "                        fr.put_text(test_img,predicted_name,x,y)\n",
    "\n",
    "        resized_img=cv2.resize(test_img,(1000,700))\n",
    "\n",
    "        cv2.imshow(\"face detection \", resized_img)\n",
    "        cv2.waitKey(0)\n",
    "        \n",
    "        \n",
    "        \n",
    "root=Tk()\n",
    "root.configure(bg=\"black\")\n",
    "root.title(\"Face Detection By Bryan\")\n",
    "cv_img = cv2.cvtColor(cv2.imread(\"bg2.jpg\"), cv2.COLOR_BGR2RGB)\n",
    "\n",
    "\n",
    "height, width, no_channels = cv_img.shape\n",
    "canvas = Canvas(root, width = width, height = height)\n",
    "canvas.pack()\n",
    "# Use PIL (Pillow) to convert the NumPy ndarray to a PhotoImage\n",
    "photo = PIL.ImageTk.PhotoImage(image = PIL.Image.fromarray(cv_img))\n",
    "\n",
    "canvas.create_image(0, 0, image=photo, anchor=NW)\n",
    "\n",
    "#button\n",
    "\n",
    "btn=Button(root, text=\"Select Image\", width=50, command=open,bg=\"Black\",fg=\"silver\",font=\"comicsansm 14 bold\")\n",
    "btn.pack(anchor=CENTER, expand=True)\n",
    "\n",
    "root.mainloop()\n"
   ]
  },
  {
   "cell_type": "code",
   "execution_count": null,
   "metadata": {},
   "outputs": [],
   "source": []
  },
  {
   "cell_type": "code",
   "execution_count": null,
   "metadata": {},
   "outputs": [],
   "source": []
  },
  {
   "cell_type": "code",
   "execution_count": null,
   "metadata": {},
   "outputs": [],
   "source": []
  }
 ],
 "metadata": {
  "kernelspec": {
   "display_name": "Python 3",
   "language": "python",
   "name": "python3"
  },
  "language_info": {
   "codemirror_mode": {
    "name": "ipython",
    "version": 3
   },
   "file_extension": ".py",
   "mimetype": "text/x-python",
   "name": "python",
   "nbconvert_exporter": "python",
   "pygments_lexer": "ipython3",
   "version": "3.7.1"
  }
 },
 "nbformat": 4,
 "nbformat_minor": 2
}
