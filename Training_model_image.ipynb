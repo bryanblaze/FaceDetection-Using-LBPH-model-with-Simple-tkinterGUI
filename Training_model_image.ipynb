{
 "cells": [
  {
   "cell_type": "code",
   "execution_count": null,
   "metadata": {},
   "outputs": [
    {
     "name": "stdout",
     "output_type": "stream",
     "text": [
      "Face Detected [[210 199 204 204]]\n",
      "img_path C:\\Users\\Bryan Devadatha\\Desktop\\my projects\\Face-Recognition-LBPH\\images\\0\\image0000.jpg\n",
      "id 0\n",
      "img_path C:\\Users\\Bryan Devadatha\\Desktop\\my projects\\Face-Recognition-LBPH\\images\\0\\image0001.jpg\n",
      "id 0\n",
      "img_path C:\\Users\\Bryan Devadatha\\Desktop\\my projects\\Face-Recognition-LBPH\\images\\0\\image0002.jpg\n",
      "id 0\n",
      "img_path C:\\Users\\Bryan Devadatha\\Desktop\\my projects\\Face-Recognition-LBPH\\images\\0\\image0003.jpg\n",
      "id 0\n",
      "img_path C:\\Users\\Bryan Devadatha\\Desktop\\my projects\\Face-Recognition-LBPH\\images\\0\\image0004.jpg\n",
      "id 0\n",
      "img_path C:\\Users\\Bryan Devadatha\\Desktop\\my projects\\Face-Recognition-LBPH\\images\\0\\image0005.jpg\n",
      "id 0\n",
      "img_path C:\\Users\\Bryan Devadatha\\Desktop\\my projects\\Face-Recognition-LBPH\\images\\0\\image0006.jpg\n",
      "id 0\n",
      "img_path C:\\Users\\Bryan Devadatha\\Desktop\\my projects\\Face-Recognition-LBPH\\images\\0\\image0007.jpg\n",
      "id 0\n"
     ]
    }
   ],
   "source": [
    "import numpy as np\n",
    "import os\n",
    "import cv2\n",
    "import Face_Recognition as fr\n",
    "#print(fr)\n",
    "\n",
    "test_img=cv2.imread(r\"img5.jpg\")\n",
    "face_detected,gray_img=fr.facedetection(test_img)\n",
    "cv2.imshow\n",
    "print(\"Face Detected\",face_detected)\n",
    "\n",
    "#Training will begin here\n",
    "faces,faceID=fr.labels_for_training_data(r'C:\\Users\\Bryan Devadatha\\Desktop\\my projects\\Face-Recognition-LBPH\\images') #takes dataset from given path\n",
    "face_recognizer=fr.train_classifier(faces,faceID) #training on basis of label\n",
    "face_recognizer.save(r'C:\\Users\\Bryan Devadatha\\Desktop\\my projects\\Face-Recognition-LBPH\\TrainingData.yml')#saves the model in given path\n",
    "\n",
    "name={0:'Bryan',1:'Zucc'} #give names for label\n",
    "\n",
    "for face in face_detected:\n",
    "    (x,y,w,h)=face\n",
    "    roi_gray=gray_img[y:y+w,x:x+h]\n",
    "    label,confidence=face_recognizer.predict(roi_gray)\n",
    "    print(label)\n",
    "    print(confidence) #Confidence is distance from predicted label,so lesser confidence of model the better\n",
    "    fr.draw_rect(test_img,face)\n",
    "    predict_name=name[label]\n",
    "    fr.put_text(test_img,predict_name,x,y)\n",
    "resize_img=cv2.resize(test_img,(1000,700))\n",
    "cv2.imshow(\"face detection\",resize_img)\n",
    "cv2.waitKey(0)\n",
    "cv2.destroyAllWindows()\n"
   ]
  },
  {
   "cell_type": "code",
   "execution_count": null,
   "metadata": {},
   "outputs": [],
   "source": []
  }
 ],
 "metadata": {
  "kernelspec": {
   "display_name": "Python 3",
   "language": "python",
   "name": "python3"
  },
  "language_info": {
   "codemirror_mode": {
    "name": "ipython",
    "version": 3
   },
   "file_extension": ".py",
   "mimetype": "text/x-python",
   "name": "python",
   "nbconvert_exporter": "python",
   "pygments_lexer": "ipython3",
   "version": "3.7.1"
  }
 },
 "nbformat": 4,
 "nbformat_minor": 2
}
