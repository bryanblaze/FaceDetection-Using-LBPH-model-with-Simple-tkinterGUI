{
 "cells": [
  {
   "cell_type": "code",
   "execution_count": 8,
   "metadata": {},
   "outputs": [
    {
     "name": "stdout",
     "output_type": "stream",
     "text": [
      "<module 'Face_Recognition' from 'C:\\\\Users\\\\Bryan Devadatha\\\\Desktop\\\\my projects\\\\Face-Recognition-LBPH\\\\Face_Recognition.py'>\n",
      "face Detected:  [[1620  512 1174 1174]]\n",
      "Confidence : 62.006026050743564\n",
      "label : 1\n"
     ]
    },
    {
     "data": {
      "text/plain": [
       "<function destroyAllWindows>"
      ]
     },
     "execution_count": 8,
     "metadata": {},
     "output_type": "execute_result"
    }
   ],
   "source": [
    "import numpy as np\n",
    "import cv2\n",
    "import os\n",
    "\n",
    "import Face_Recognition as fr\n",
    "print (fr)\n",
    "\n",
    "test_img=cv2.imread(r'img3.jpg')      #Give path to the image which you want to test\n",
    "\n",
    "\n",
    "faces_detected,gray_img=fr.facedetection(test_img)\n",
    "print(\"face Detected: \",faces_detected)\n",
    "\n",
    "\n",
    "face_recognizer=cv2.face.LBPHFaceRecognizer_create()\n",
    "face_recognizer.read(r'C:\\Users\\Bryan Devadatha\\Desktop\\my projects\\Face-Recognition-LBPH\\TrainingData.yml')  #Give path of where trainingData.yml is saved\n",
    "\n",
    "name={0:\"Bryan\",1:\"Zucc\"}             #Change names accordingly.  If you want to recognize only one person then write:- name={0:\"name\"} thats all. Dont write for id number 1. \n",
    "\n",
    "for face in faces_detected:\n",
    "    (x,y,w,h)=face\n",
    "    roi_gray=gray_img[y:y+h,x:x+h]\n",
    "    label,confidence=face_recognizer.predict(roi_gray)\n",
    "    print (\"Confidence :\",confidence)\n",
    "    print(\"label :\",label)\n",
    "    fr.draw_rect(test_img,face)\n",
    "    predicted_name=name[label]\n",
    "    fr.put_text(test_img,predicted_name,x,y)\n",
    "\n",
    "resized_img=cv2.resize(test_img,(1000,700))\n",
    "\n",
    "cv2.imshow(\"face detection \", resized_img)\n",
    "cv2.waitKey(0)\n",
    "cv2.destroyAllWindows\n"
   ]
  },
  {
   "cell_type": "code",
   "execution_count": null,
   "metadata": {},
   "outputs": [],
   "source": []
  },
  {
   "cell_type": "code",
   "execution_count": null,
   "metadata": {},
   "outputs": [],
   "source": []
  }
 ],
 "metadata": {
  "kernelspec": {
   "display_name": "Python 3",
   "language": "python",
   "name": "python3"
  },
  "language_info": {
   "codemirror_mode": {
    "name": "ipython",
    "version": 3
   },
   "file_extension": ".py",
   "mimetype": "text/x-python",
   "name": "python",
   "nbconvert_exporter": "python",
   "pygments_lexer": "ipython3",
   "version": "3.7.1"
  }
 },
 "nbformat": 4,
 "nbformat_minor": 2
}
